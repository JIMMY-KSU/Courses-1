{
 "cells": [
  {
   "cell_type": "code",
   "execution_count": 2,
   "metadata": {},
   "outputs": [],
   "source": [
    "# load packages and data\n",
    "from preprocessed_mnist import load_dataset\n",
    "X_train, y_train, X_val, y_val, X_test, y_test = load_dataset()\n",
    "import matplotlib.pyplot as plt\n",
    "import tensorflow as tf\n",
    "import numpy as np\n",
    "from IPython import display\n",
    "%matplotlib inline"
   ]
  },
  {
   "cell_type": "code",
   "execution_count": 3,
   "metadata": {
    "collapsed": true
   },
   "outputs": [],
   "source": [
    "# reshape data\n",
    "X_train = X_train.reshape(-1, 784)\n",
    "X_test = X_test.reshape(-1, 784)\n",
    "y_train = np.eye(np.max(y_train) + 1)[y_train]\n",
    "y_test = np.eye(np.max(y_test) + 1)[y_test]"
   ]
  },
  {
   "cell_type": "code",
   "execution_count": 4,
   "metadata": {
    "collapsed": true
   },
   "outputs": [],
   "source": [
    "# set hyperparameters\n",
    "neurons = [512, 256]\n",
    "learning_rate = 0.001\n",
    "dropout_keep_prob = 0.75\n",
    "epochs = 100\n",
    "batch_size = 1000\n",
    "n_features = len(X_train[0])\n",
    "n_classes = len(y_train[0])\n",
    "results = [[],[],[],[]]"
   ]
  },
  {
   "cell_type": "code",
   "execution_count": 5,
   "metadata": {
    "collapsed": true
   },
   "outputs": [],
   "source": [
    "# create NN model\n",
    "def init_model():\n",
    "    sizes = [n_features] + neurons + [n_classes]; model = {}\n",
    "    for i in range(len(sizes)-1):\n",
    "        model['w'+str(i)] = tf.Variable(tf.random_normal(shape=[sizes[i], sizes[i+1]], mean=0, stddev=0.1))\n",
    "        model['b'+str(i)] = tf.Variable(tf.random_normal(shape=[sizes[i+1]], mean=0, stddev=0.1))\n",
    "    return model"
   ]
  },
  {
   "cell_type": "code",
   "execution_count": 6,
   "metadata": {
    "collapsed": true
   },
   "outputs": [],
   "source": [
    "# forward propagation\n",
    "def forward_prop(x, model, dropout_kp):\n",
    "    values_act = x; values = values_act\n",
    "    for i in range(len(neurons) + 1):\n",
    "        values = tf.matmul(values_act, model['w'+str(i)]) + model['b'+str(i)]\n",
    "        values_act = tf.nn.relu(values)\n",
    "        values_act = tf.nn.dropout(values_act, keep_prob=dropout_kp)\n",
    "    values = tf.nn.softmax(values)\n",
    "    return values"
   ]
  },
  {
   "cell_type": "code",
   "execution_count": 7,
   "metadata": {
    "collapsed": true
   },
   "outputs": [],
   "source": [
    "# tf operations\n",
    "x = tf.placeholder(tf.float32, [None, n_features])\n",
    "y = tf.placeholder(tf.float32, [None, n_classes])\n",
    "do_kp = tf.placeholder(tf.float32) \n",
    "model = init_model()\n",
    "predicted = forward_prop(x, model, do_kp)\n",
    "cost = tf.losses.mean_squared_error(labels = y, predictions = predicted)\n",
    "optimizer = tf.train.AdamOptimizer(learning_rate).minimize(cost)\n",
    "correct = tf.equal(tf.argmax(predicted, 1), tf.argmax(y, 1))\n",
    "accuracy = tf.reduce_mean(tf.cast(correct, 'float'))\n",
    "sess = tf.InteractiveSession()\n",
    "sess.run(tf.global_variables_initializer())"
   ]
  },
  {
   "cell_type": "code",
   "execution_count": 8,
   "metadata": {},
   "outputs": [
    {
     "data": {
      "image/png": "[encoded data removed]",
      "text/plain": [
       "<matplotlib.figure.Figure at 0x7ff22e52f668>"
      ]
     },
     "metadata": {},
     "output_type": "display_data"
    },
    {
     "name": "stdout",
     "output_type": "stream",
     "text": [
      "Epoch: 99 Train acc: 0.999 Test acc: 0.984 Train cost: 0.0001 Test cost: 0.0026\n"
     ]
    }
   ],
   "source": [
    "# training loop\n",
    "for e in range(epochs):\n",
    "    \n",
    "    iters = int(len(X_train) / batch_size)\n",
    "    \n",
    "    for i in range(iters):\n",
    "        # get random batch\n",
    "        idx = np.random.choice(len(X_train), batch_size)\n",
    "        X_batch = X_train[idx,:]\n",
    "        y_batch = y_train[idx,:]\n",
    "\n",
    "        # make train step\n",
    "        sess.run(optimizer, {x: X_batch, y: y_batch, do_kp: dropout_keep_prob})\n",
    "    \n",
    "    # evaluate model\n",
    "    accuracy_train, cost_train = sess.run([accuracy, cost], \n",
    "                                          {x: X_train, y: y_train, do_kp: 1.0})\n",
    "    accuracy_test, cost_test = sess.run([accuracy, cost], \n",
    "                                        {x: X_test, y: y_test, do_kp: 1.0})\n",
    "    results[0].append(accuracy_train)\n",
    "    results[1].append(cost_train)\n",
    "    results[2].append(accuracy_test)\n",
    "    results[3].append(cost_test)\n",
    "    \n",
    "    # plot and print results\n",
    "    plt.subplot(1, 2, 1)\n",
    "    plt.plot(results[0])\n",
    "    plt.plot(results[2])\n",
    "    plt.grid()\n",
    "    plt.legend(['train accuracy', 'test accuracy'])\n",
    "    \n",
    "    plt.subplot(1, 2, 2)\n",
    "    plt.plot(results[1])\n",
    "    plt.plot(results[3])  \n",
    "    plt.grid()\n",
    "    plt.legend(['train cost', 'test cost'])\n",
    "    \n",
    "    display.clear_output(wait=True)\n",
    "    plt.show()         \n",
    "\n",
    "    print('Epoch:', e, \n",
    "          'Train acc:', np.round(accuracy_train, 3), \n",
    "          'Test acc:', np.round(accuracy_test, 3), \n",
    "          'Train cost:', np.round(cost_train, 4), \n",
    "          'Test cost:', np.round(cost_test, 4))                 \n"
   ]
  }
 ],
 "metadata": {
  "kernelspec": {
   "display_name": "Python 3",
   "language": "python",
   "name": "python3"
  },
  "language_info": {
   "codemirror_mode": {
    "name": "ipython",
    "version": 3
   },
   "file_extension": ".py",
   "mimetype": "text/x-python",
   "name": "python",
   "nbconvert_exporter": "python",
   "pygments_lexer": "ipython3",
   "version": "3.6.0"
  }
 },
 "nbformat": 4,
 "nbformat_minor": 2
}
